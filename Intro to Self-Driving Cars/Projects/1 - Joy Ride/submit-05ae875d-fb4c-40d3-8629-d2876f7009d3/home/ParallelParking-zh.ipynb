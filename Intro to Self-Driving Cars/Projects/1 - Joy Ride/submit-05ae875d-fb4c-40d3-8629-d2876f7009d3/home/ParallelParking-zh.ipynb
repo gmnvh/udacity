{
 "cells": [
  {
   "cell_type": "markdown",
   "metadata": {},
   "source": [
    "# 趣味赛车 - 第 3 部分: 平行停车\n",
    "在本节中，你将要编写一个函数，用于实现平行停放车辆所需的正确步骤。\n",
    "\n",
    "**注：**这部分车辆的最高车速已经设定在4英里/小时以上，这样停车应该更容易一些。\n",
    "\n",
    "![](https://upload.wikimedia.org/wikipedia/commons/2/26/ParallelParkingAnimation.gif)"
   ]
  },
  {
   "cell_type": "code",
   "execution_count": 1,
   "metadata": {},
   "outputs": [
    {
     "data": {
      "text/html": [
       "<link rel=\"stylesheet\" type=\"text/css\" href=\"buttonStyle.css\">\n",
       "<button id=\"launcher\">Launch Car Simulator</button>\n",
       "<button id=\"restart\">Restart Connection</button>\n",
       "<script src=\"setupLauncher.js\"></script>\n",
       "<script src=\"kernelRestart.js\"></script>"
      ],
      "text/plain": [
       "<IPython.core.display.HTML object>"
      ]
     },
     "metadata": {},
     "output_type": "display_data"
    }
   ],
   "source": [
    "%%HTML\n",
    "<link rel=\"stylesheet\" type=\"text/css\" href=\"buttonStyle.css\">\n",
    "<button id=\"launcher\">Launch Car Simulator</button>\n",
    "<button id=\"restart\">Restart Connection</button>\n",
    "<script src=\"setupLauncher.js\"></script>\n",
    "<script src=\"kernelRestart.js\"></script>"
   ]
  },
  {
   "cell_type": "code",
   "execution_count": null,
   "metadata": {},
   "outputs": [
    {
     "name": "stdout",
     "output_type": "stream",
     "text": [
      "running\n",
      "CONNECTED\n",
      "('172.18.0.1', 44754) connected\n",
      "CONNECTED\n",
      "('172.18.0.1', 44758) connected\n",
      "CONNECTED\n",
      "('172.18.0.1', 44762) connected\n",
      "CONNECTED\n",
      "('172.18.0.1', 44766) connected\n",
      "CONNECTED\n",
      "('172.18.0.1', 44774) connected\n"
     ]
    }
   ],
   "source": [
    "# After running any code changes make sure to click the button \"Restart Connection\" above first.\n",
    "# Also make sure to click Reset in the simulator to refresh the connection.\n",
    "\n",
    "car_parameters = {\"throttle\": 0, \"steer\": 0, \"brake\": 0}\n",
    "\n",
    "def control(pos_x, pos_y, time, velocity):\n",
    "    \"\"\" Controls the simulated car\"\"\"\n",
    "    global car_parameters\n",
    "    \n",
    "    \n",
    "    # TODO: Use WASD keys in simulator to gain an intuitive feel of parallel parking.\n",
    "    # Pay close attention to the time, position, and velocity in the simulator.\n",
    "    \n",
    "    # TODO: Use this information to make decisions about how to set your car parameters\n",
    "    \n",
    "    # In this example the car will drive forward for three seconds\n",
    "    # and then backs up until its y_pos is less than 32 then comes to a stop by braking\n",
    "    if(time < 3):\n",
    "        car_parameters[\"throttle\"] = 1.0\n",
    "        car_parameters[\"steer\"] = 0\n",
    "        car_parameters[\"brake\"] = 0\n",
    "    elif(pos_y > 32):\n",
    "        car_parameters[\"throttle\"] = -1.0\n",
    "        car_parameters[\"steer\"] = 0\n",
    "        car_parameters[\"brake\"] = 0\n",
    "    else:\n",
    "        car_parameters[\"throttle\"] = 0\n",
    "        car_parameters[\"steer\"] = 0\n",
    "        car_parameters[\"brake\"] = 1\n",
    "    \n",
    "    return car_parameters\n",
    "    \n",
    "import src.simulate as sim\n",
    "sim.run(control)\n"
   ]
  },
  {
   "cell_type": "markdown",
   "metadata": {},
   "source": [
    "# 提交此项目！\n",
    "满足下列条件时，平行停车函数才是“正确”的：\n",
    "\n",
    "1. 你的车没有碰到其他车。\n",
    "2. 你的车完全停在右侧车道内。\n",
    "\n",
    "平行停车函数编写完成后，通过按下此页面右下角的`SUBMIT`按钮提交你的项目吧！"
   ]
  },
  {
   "cell_type": "code",
   "execution_count": null,
   "metadata": {},
   "outputs": [],
   "source": []
  }
 ],
 "metadata": {
  "kernelspec": {
   "display_name": "Python 3",
   "language": "python",
   "name": "python3"
  },
  "language_info": {
   "codemirror_mode": {
    "name": "ipython",
    "version": 3
   },
   "file_extension": ".py",
   "mimetype": "text/x-python",
   "name": "python",
   "nbconvert_exporter": "python",
   "pygments_lexer": "ipython3",
   "version": "3.6.3"
  }
 },
 "nbformat": 4,
 "nbformat_minor": 2
}
